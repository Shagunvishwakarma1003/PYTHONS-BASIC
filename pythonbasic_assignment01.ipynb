{
  "nbformat": 4,
  "nbformat_minor": 0,
  "metadata": {
    "colab": {
      "provenance": []
    },
    "kernelspec": {
      "name": "python3",
      "display_name": "Python 3"
    },
    "language_info": {
      "name": "python"
    }
  },
  "cells": [
    {
      "cell_type": "markdown",
      "source": [
        "**PYTHON BASIC QUESTIONS**"
      ],
      "metadata": {
        "id": "VPxxg-4kxXtM"
      }
    },
    {
      "cell_type": "markdown",
      "source": [
        "1. **What is Python, and why is it popular?**\n",
        "  --> Python is highly interpreted programming language and it's known for     its simplicity, readability and versatility.\n",
        "  Python is polpular because of:                                   \n",
        "   1)Widely used in the industry.\n",
        "   2)Widely used in tha data industry (Eg:Data Science, Data Analytics, ML Engineer etc).                                \n",
        "   3)Python have lots of libraries.\n",
        "   4)Python is general purpose language you can do develop any amount of software that you want, you can also work frontend Part, backend used cases, Data Analysis used cases, Other used cases you can do automation using Python, image processing, You can interact with data bases.\n",
        "   5)Python is easy to learn.\n",
        "   6)Python has active community."
      ],
      "metadata": {
        "id": "WMR4bvIwfodW"
      }
    },
    {
      "cell_type": "markdown",
      "source": [
        "2. **What is an interpreter in Python?**\n",
        "   --> An interpreter in Python is a program that reads, anlyzes and executes Python code. It translates code into a language(ie, binnary language) that computer processor can understand and execute code.\n",
        "   You can interact with Python interpreter in such ways that are interactive mode and script mode."
      ],
      "metadata": {
        "id": "7pVklFOXmOQ4"
      }
    },
    {
      "cell_type": "markdown",
      "source": [
        "3. **What are pre-defined keywords in Python?**\n",
        "   --> Python has a set of pre-defined keywords that have special meanings.They are used for specific purpose in the Python language. python keywords are reserved and cannot used as identifiers.\n",
        "   Python have categories of keywords that are value keywords, logial Operations, functions & class definitions, exception handling etc."
      ],
      "metadata": {
        "id": "PebGJLVJqX7X"
      }
    },
    {
      "cell_type": "markdown",
      "source": [
        "4. **Can keywords be used as variable names?**\n",
        "   --> No, keywords can't used as variable names. Because Python keywords are reserved for specific purpose and used them as identifers."
      ],
      "metadata": {
        "id": "sDCTGLsdxTFR"
      }
    },
    {
      "cell_type": "markdown",
      "source": [
        "5. **What is mutability in Python?**\n",
        "   --> Mutability in Python means the value of an object that can be change.\n",
        "   for eg. list is mutable you can change the list value but string and tuples are immutable you cannot change the value.\n",
        "   "
      ],
      "metadata": {
        "id": "j2LDiNBeyI7N"
      }
    },
    {
      "cell_type": "code",
      "source": [
        "#example\n",
        "list=[1,2,3,4,5,]\n",
        "list[0]=7\n",
        "print(list)\n",
        "#The value of element in the list has been changed (ie 1 changed by 7)\n",
        "\n"
      ],
      "metadata": {
        "colab": {
          "base_uri": "https://localhost:8080/"
        },
        "id": "cPVE9H3uzI0R",
        "outputId": "b2542127-55da-4a8a-951b-3de68d70ba87"
      },
      "execution_count": null,
      "outputs": [
        {
          "output_type": "stream",
          "name": "stdout",
          "text": [
            "[7, 2, 3, 4, 5]\n"
          ]
        }
      ]
    },
    {
      "cell_type": "markdown",
      "source": [
        "6. **Why are lists mutable, but tuples are immutable?**\n",
        "   --> List are mutable becasue its designed for the objet and values present in the list that can be changed like you can add, remove and modifed the list whereas\n",
        "   tuples are immutable beacuse its designed for the fixed collection of data that can't be changed."
      ],
      "metadata": {
        "id": "G74_imaW0GKx"
      }
    },
    {
      "cell_type": "markdown",
      "source": [
        "7. **What is the difference between \"==\" and \"is\" operators in Python?**\n",
        "   --> \"==\" is compares the values of two objects to see the are equal or not.\n",
        "   "
      ],
      "metadata": {
        "id": "bzEllQcgzB5N"
      }
    },
    {
      "cell_type": "code",
      "source": [
        "#example \"==\"\n",
        "list_1 = [7,8,9]\n",
        "list_2 = [7,8,9]\n",
        "print(list_1 == list_2) # \"==\" compare the values of both list whether it is similar or not if its simliar it print true otherwise false.\n",
        "print(list_1 is list_2) # \"is\" compare the variables whether it is similar or not. If they are similar it print true otherwise false.\n",
        "#example \"is\"\n",
        "a = \"pwskills\"\n",
        "b = \"pwskills\"\n",
        "print(a is b)\n",
        "\n",
        "\n"
      ],
      "metadata": {
        "colab": {
          "base_uri": "https://localhost:8080/"
        },
        "id": "W5z8OjzC5OjJ",
        "outputId": "c2fced3c-4725-4325-9613-33618cee27ca"
      },
      "execution_count": null,
      "outputs": [
        {
          "output_type": "stream",
          "name": "stdout",
          "text": [
            "True\n",
            "False\n",
            "True\n"
          ]
        }
      ]
    },
    {
      "cell_type": "markdown",
      "source": [
        "8. **What are logical operators in Python?**\n",
        "   --> logical operators in Python are And, Or and Not that are combine or modify boolean expression (ie, True/False) to make decision in code.\n",
        "   # And: its return True if both conditions are true.\n",
        "   # or: its return True if atleast one conditions is true.\n",
        "   # Not: its return as reverses the boolean value of condition."
      ],
      "metadata": {
        "id": "qIwE-0MX9P0S"
      }
    },
    {
      "cell_type": "markdown",
      "source": [
        "9. **What is type casting in Python?**\n",
        "   --> Type casting in Python means that it can convert one data type to another data type."
      ],
      "metadata": {
        "id": "bI1XzAojLYTo"
      }
    },
    {
      "cell_type": "code",
      "source": [
        "#example\n",
        "x = \"5\"\n",
        "print(type(x)) #you can see the type of x is string its printed.\n",
        "print (int(x)) # now, its convert string into intger and printed the integer value."
      ],
      "metadata": {
        "colab": {
          "base_uri": "https://localhost:8080/"
        },
        "id": "kdKI1B2XL3BS",
        "outputId": "1d55259e-d17b-418a-ecdd-c8cbb3c7d0b5"
      },
      "execution_count": null,
      "outputs": [
        {
          "output_type": "stream",
          "name": "stdout",
          "text": [
            "<class 'str'>\n",
            "5\n"
          ]
        }
      ]
    },
    {
      "cell_type": "markdown",
      "source": [
        "10. **What is the difference between implicit and explicit type casting?**\n",
        "    --> * Implicit type casting in Python means it automatically convert one data type to another data type when needed for an operation.\n",
        "    * Explicit type casting in Python means you manually convert a one data type to another (refer QUESTION NO 8)\n",
        "    \n"
      ],
      "metadata": {
        "id": "ta-tMNcIM1dy"
      }
    },
    {
      "cell_type": "code",
      "source": [
        "#example implicit type casting:\n",
        "a = 10.0 #float value\n",
        "b = 5 # int value\n",
        "result = a + b\n",
        "print(result) # here, Python convert b the int value to a float value automatically and print result 15.0 in float"
      ],
      "metadata": {
        "colab": {
          "base_uri": "https://localhost:8080/"
        },
        "id": "t5EzuWZvOaDs",
        "outputId": "127e3592-c835-4f6c-e3ff-c5eed735898e"
      },
      "execution_count": null,
      "outputs": [
        {
          "output_type": "stream",
          "name": "stdout",
          "text": [
            "15.0\n"
          ]
        }
      ]
    },
    {
      "cell_type": "markdown",
      "source": [
        "11. **What is the purpose of conditional statement in Python?**\n",
        "    --> The purpose of the conditional statement in Python is to control the flow of program based on certain conditions, executing different block of code depending on whether a condition is true or false."
      ],
      "metadata": {
        "id": "X4v-8afUPymv"
      }
    },
    {
      "cell_type": "markdown",
      "source": [
        "12. **How does the elif statement work?**\n",
        "    --> Elif statement works: you execute the program it will fisrt check the if condition, if condition is false then it will again run the cycle for the elif condions if all condition are false it will execute the else block of code."
      ],
      "metadata": {
        "id": "KLlloMSHT1id"
      }
    },
    {
      "cell_type": "markdown",
      "source": [
        "13. **What is the difference between for and while loop?**\n",
        "   --> for loop : is used to iterate over a sequence of element.\n",
        "   while loop:means repeatedly executed a block of code untill a condition is met."
      ],
      "metadata": {
        "id": "A8x8iq2eT_3F"
      }
    },
    {
      "cell_type": "code",
      "source": [
        "#example for loop:iterate each element present in sequence.\n",
        "for i in \"shagun\":\n",
        "  print(i)"
      ],
      "metadata": {
        "colab": {
          "base_uri": "https://localhost:8080/"
        },
        "id": "HgAar0QlYOsA",
        "outputId": "a2178002-855e-4e2b-8ff4-149044b62208"
      },
      "execution_count": null,
      "outputs": [
        {
          "output_type": "stream",
          "name": "stdout",
          "text": [
            "s\n",
            "h\n",
            "a\n",
            "g\n",
            "u\n",
            "n\n"
          ]
        }
      ]
    },
    {
      "cell_type": "code",
      "source": [
        "#example while loop\n",
        "a = 10\n",
        "i = 1\n",
        "while i < a:# repeatedly execute a block of code untill condition met. once condition is met it will stop.\n",
        "  print(i)\n",
        "  i = i+1"
      ],
      "metadata": {
        "colab": {
          "base_uri": "https://localhost:8080/"
        },
        "id": "0VrZzgHwcgxh",
        "outputId": "dcc68bd6-2ab3-4cb8-f346-5782e3d35fbd"
      },
      "execution_count": null,
      "outputs": [
        {
          "output_type": "stream",
          "name": "stdout",
          "text": [
            "1\n",
            "2\n",
            "3\n",
            "4\n",
            "5\n",
            "6\n",
            "7\n",
            "8\n",
            "9\n"
          ]
        }
      ]
    },
    {
      "cell_type": "markdown",
      "source": [
        "14. **Describe a scenario where a while loop is more suitable than a for loop?**\n",
        "  --> A while is more suitable than a for loop is when the number of iterations is unknown and depends on condition being met during executing time.\n",
        "  example/scenario: program that ask for the user to enter the correct input(input is anything that you ask from user to enter it will be password, name..etc whatever the input that you want form user.) and you don't know how many attempt the user required. So the while loop is ideal to deal with this program because the user enter the corret input which is unknown number of iteration.\n",
        "  if you used for loop it will typically iterates over a fixed ranger or sequence. therefore while loop is appropriate for this scenario."
      ],
      "metadata": {
        "id": "0H56K-8pUIOj"
      }
    },
    {
      "cell_type": "markdown",
      "source": [
        "**PRACTICAL QUESTIONS**"
      ],
      "metadata": {
        "id": "wLF85xe6yowT"
      }
    },
    {
      "cell_type": "markdown",
      "source": [
        "1. **Write a Python program to print \"Hello, World!\"**"
      ],
      "metadata": {
        "id": "NBOwhpf6hM-u"
      }
    },
    {
      "cell_type": "code",
      "source": [
        "print(\"Hello, World!\")\n"
      ],
      "metadata": {
        "colab": {
          "base_uri": "https://localhost:8080/"
        },
        "id": "BpQ1mHy9zEVD",
        "outputId": "c7347a99-0910-4cc0-dbde-906625f54ebe"
      },
      "execution_count": 32,
      "outputs": [
        {
          "output_type": "stream",
          "name": "stdout",
          "text": [
            "Hello, World!\n"
          ]
        }
      ]
    },
    {
      "cell_type": "markdown",
      "source": [
        "2. **Write a Python program that displays your name and age.**"
      ],
      "metadata": {
        "id": "69Yp4Ik_y2jS"
      }
    },
    {
      "cell_type": "code",
      "source": [
        "name = \"Shagun Vishwakarma\"\n",
        "age = 35\n",
        "print(name)\n",
        "print(age)"
      ],
      "metadata": {
        "colab": {
          "base_uri": "https://localhost:8080/"
        },
        "id": "lPo89Oz20IUc",
        "outputId": "c670c17c-b828-4209-acb8-8e49e5a2c7cb"
      },
      "execution_count": 2,
      "outputs": [
        {
          "output_type": "stream",
          "name": "stdout",
          "text": [
            "Shagun Vishwakarma\n",
            "35\n"
          ]
        }
      ]
    },
    {
      "cell_type": "markdown",
      "source": [
        "3. **Write code to print all the pre-defined keywords in Python using the keyword library.**"
      ],
      "metadata": {
        "id": "Z-mADYg40abG"
      }
    },
    {
      "cell_type": "code",
      "source": [
        "#method 1\n",
        "help(\"keywords\") # pre-defined keywords in Python."
      ],
      "metadata": {
        "colab": {
          "base_uri": "https://localhost:8080/"
        },
        "id": "Leu7emT50uqj",
        "outputId": "b65d847c-ac8d-4bc4-b9ec-481c255d4a18"
      },
      "execution_count": 3,
      "outputs": [
        {
          "output_type": "stream",
          "name": "stdout",
          "text": [
            "\n",
            "Here is a list of the Python keywords.  Enter any keyword to get more help.\n",
            "\n",
            "False               class               from                or\n",
            "None                continue            global              pass\n",
            "True                def                 if                  raise\n",
            "and                 del                 import              return\n",
            "as                  elif                in                  try\n",
            "assert              else                is                  while\n",
            "async               except              lambda              with\n",
            "await               finally             nonlocal            yield\n",
            "break               for                 not                 \n",
            "\n"
          ]
        }
      ]
    },
    {
      "cell_type": "code",
      "source": [
        "#method 2\n",
        "import keyword\n",
        "_keywords = keyword.kwlist\n",
        "print(\"Pre-defined keywords in Python\")\n",
        "for k in _keywords:\n",
        "  print(k)"
      ],
      "metadata": {
        "colab": {
          "base_uri": "https://localhost:8080/"
        },
        "id": "pquv7miu3Fpn",
        "outputId": "bcce6c78-cbfe-42bd-b0de-f792af87b51a"
      },
      "execution_count": 8,
      "outputs": [
        {
          "output_type": "stream",
          "name": "stdout",
          "text": [
            "Pre-defined keywords in Python\n",
            "False\n",
            "None\n",
            "True\n",
            "and\n",
            "as\n",
            "assert\n",
            "async\n",
            "await\n",
            "break\n",
            "class\n",
            "continue\n",
            "def\n",
            "del\n",
            "elif\n",
            "else\n",
            "except\n",
            "finally\n",
            "for\n",
            "from\n",
            "global\n",
            "if\n",
            "import\n",
            "in\n",
            "is\n",
            "lambda\n",
            "nonlocal\n",
            "not\n",
            "or\n",
            "pass\n",
            "raise\n",
            "return\n",
            "try\n",
            "while\n",
            "with\n",
            "yield\n"
          ]
        }
      ]
    },
    {
      "cell_type": "markdown",
      "source": [
        "4. **Write a program that checks if a given word is a Python keyword.**"
      ],
      "metadata": {
        "id": "g2QqD0Z14Wq4"
      }
    },
    {
      "cell_type": "code",
      "source": [
        "import keyword\n",
        "word=input('enter a word')\n",
        "if keyword.iskeyword(word):\n",
        "        print(f\"'{word}' is a Python keyword.\")\n",
        "else:\n",
        "        print(f\"'{word}' is not a Python keyword.\")"
      ],
      "metadata": {
        "colab": {
          "base_uri": "https://localhost:8080/"
        },
        "id": "UcK_BG5PJhc0",
        "outputId": "731d29af-e19c-4c4a-be92-336e951418bc"
      },
      "execution_count": 67,
      "outputs": [
        {
          "output_type": "stream",
          "name": "stdout",
          "text": [
            "enter a wordif\n",
            "'if' is a Python keyword.\n"
          ]
        }
      ]
    },
    {
      "cell_type": "markdown",
      "source": [
        "5.  **Create a list and tuple in Python, and demonstrate how attempting to change an element works differently for each.**"
      ],
      "metadata": {
        "id": "ypfdvsekJ0Xe"
      }
    },
    {
      "cell_type": "code",
      "source": [
        "# Create a list and a tuple\n",
        "my_list = [1, 2, 3]\n",
        "my_tuple = (1, 2, 3)\n",
        "\n",
        "print(\"Original values:\")\n",
        "print(f\"List: {my_list}\")\n",
        "print(f\"Tuple: {my_tuple}\")\n",
        "\n",
        "# Try changing an element\n",
        "try:\n",
        "    my_list[1] = 99\n",
        "    my_tuple[1] = 99\n",
        "except TypeError as e:\n",
        "    print(f\"\\nError when changing tuple: {e}\")\n",
        "\n",
        "print(\"\\nValues after trying to change element 1:\")\n",
        "print(f\"List: {my_list}\")\n",
        "print(f\"Tuple: {my_tuple}\")\n"
      ],
      "metadata": {
        "colab": {
          "base_uri": "https://localhost:8080/"
        },
        "id": "NOEg0mTRL5zk",
        "outputId": "22936dbe-1b28-4547-e831-3b1c909b78b0"
      },
      "execution_count": 68,
      "outputs": [
        {
          "output_type": "stream",
          "name": "stdout",
          "text": [
            "Original values:\n",
            "List: [1, 2, 3]\n",
            "Tuple: (1, 2, 3)\n",
            "\n",
            "Error when changing tuple: 'tuple' object does not support item assignment\n",
            "\n",
            "Values after trying to change element 1:\n",
            "List: [1, 99, 3]\n",
            "Tuple: (1, 2, 3)\n"
          ]
        }
      ]
    },
    {
      "cell_type": "markdown",
      "source": [
        "6.** Write a function to demonstrate the behavior of mutable and immutable arguments.**"
      ],
      "metadata": {
        "id": "o1EpRpNBMQoS"
      }
    },
    {
      "cell_type": "code",
      "source": [
        "def demo_mutable_immutable(num, lst):\n",
        "    print(\"Inside function - Before changes:\")\n",
        "    print(f\"num = {num}, lst = {lst}\")\n",
        "\n",
        "    num += 10  # Changing immutable int\n",
        "    lst.append(99)  # Changing mutable list\n",
        "\n",
        "    print(\"Inside function - After changes:\")\n",
        "    print(f\"num = {num}, lst = {lst}\")\n",
        "\n",
        "    # Example usage\n",
        "num = 5\n",
        "lst = [1, 2, 3]\n",
        "demo_mutable_immutable(num, lst)\n",
        "\n",
        "print(\"\\nOutside function - After function call:\")\n",
        "print(f\"num = {num}, lst = {lst}\")\n",
        "\n"
      ],
      "metadata": {
        "colab": {
          "base_uri": "https://localhost:8080/"
        },
        "id": "XRGZCpXgMWO0",
        "outputId": "206f71c3-1728-4133-d014-47926d4d230c"
      },
      "execution_count": 72,
      "outputs": [
        {
          "output_type": "stream",
          "name": "stdout",
          "text": [
            "Inside function - Before changes:\n",
            "num = 5, lst = [1, 2, 3]\n",
            "Inside function - After changes:\n",
            "num = 15, lst = [1, 2, 3, 99]\n",
            "\n",
            "Outside function - After function call:\n",
            "num = 5, lst = [1, 2, 3, 99]\n"
          ]
        }
      ]
    },
    {
      "cell_type": "markdown",
      "source": [
        "7. **Write a program that performs basic arithmetic operations on two user-input numbers.**"
      ],
      "metadata": {
        "id": "SIClZeXZM1Rk"
      }
    },
    {
      "cell_type": "code",
      "source": [
        "def check_even_odd():\n",
        "    try:\n",
        "        num = int(input(\"Enter a number: \"))\n",
        "        if num % 2 == 0:\n",
        "            print(f\"{num} is even.\")\n",
        "        else:\n",
        "            print(f\"{num} is odd.\")\n",
        "    except ValueError:\n",
        "        print(\"Invalid input. Please enter an integer.\")\n",
        "\n",
        "if __name__ == \"__main__\":\n",
        "    check_even_odd()"
      ],
      "metadata": {
        "colab": {
          "base_uri": "https://localhost:8080/"
        },
        "id": "i9RZnkX9M5rI",
        "outputId": "71d04405-91f1-4ec2-8f3c-b56c7f0b6a78"
      },
      "execution_count": 75,
      "outputs": [
        {
          "output_type": "stream",
          "name": "stdout",
          "text": [
            "Enter a number: 4\n",
            "4 is even.\n"
          ]
        }
      ]
    },
    {
      "cell_type": "code",
      "source": [
        "# example -- 2\n",
        "def get_numbers():\n",
        "    try:\n",
        "        num1 = float(input(\"Enter first number: \"))\n",
        "        num2 = float(input(\"Enter second number: \"))\n",
        "        return num1, num2\n",
        "    except ValueError:\n",
        "        print(\"Invalid input. Please enter numbers.\")\n",
        "        return get_numbers()\n",
        "\n",
        "def perform_operations(num1, num2):\n",
        "    print(f\"\\nOperations on {num1} and {num2}:\")\n",
        "    print(f\"Addition: {num1} + {num2} = {num1 + num2}\")\n",
        "    print(f\"Subtraction: {num1} - {num2} = {num1 - num2}\")\n",
        "    print(f\"Multiplication: {num1} * {num2} = {num1 * num2}\")\n",
        "    if num2 != 0:\n",
        "        print(f\"Division: {num1} / {num2} = {num1 / num2}\")\n",
        "    else:\n",
        "        print(\"Division by zero is not possible.\")\n",
        "\n",
        "def main():\n",
        "    num1, num2 = get_numbers()\n",
        "    perform_operations(num1, num2)\n",
        "\n",
        "if __name__ == \"__main__\":\n",
        "    main()"
      ],
      "metadata": {
        "colab": {
          "base_uri": "https://localhost:8080/"
        },
        "id": "2H5MAI_hNleY",
        "outputId": "bc639599-ac60-48a8-9c15-901562282817"
      },
      "execution_count": 76,
      "outputs": [
        {
          "output_type": "stream",
          "name": "stdout",
          "text": [
            "Enter first number: 10\n",
            "Enter second number: 20\n",
            "\n",
            "Operations on 10.0 and 20.0:\n",
            "Addition: 10.0 + 20.0 = 30.0\n",
            "Subtraction: 10.0 - 20.0 = -10.0\n",
            "Multiplication: 10.0 * 20.0 = 200.0\n",
            "Division: 10.0 / 20.0 = 0.5\n"
          ]
        }
      ]
    },
    {
      "cell_type": "markdown",
      "source": [
        "8. **Write a program to demonstrate the use of logical operators.**\n"
      ],
      "metadata": {
        "id": "O2S4fok7N3ov"
      }
    },
    {
      "cell_type": "code",
      "source": [
        "def demo_logical_operators():\n",
        "    x = 5\n",
        "    y = 10\n",
        "\n",
        "    print(\"Logical operators demo:\")\n",
        "    print(f\"x = {x}, y = {y}\")\n",
        "\n",
        "    # AND\n",
        "    print(f\"x < y and y > x: {x < y and y > x}\")\n",
        "    print(f\"x > y and y > x: {x > y and y > x}\")\n",
        "\n",
        "    # OR\n",
        "    print(f\"x < y or y < x: {x < y or y < x}\")\n",
        "    print(f\"x > y or y < x: {x > y or y < x}\")\n",
        "\n",
        "    # NOT\n",
        "    print(f\"not (x < y): {not (x < y)}\")\n",
        "    print(f\"not (x > y): {not (x > y)}\")\n",
        "\n",
        "if __name__ == \"__main__\":\n",
        "    demo_logical_operators()"
      ],
      "metadata": {
        "colab": {
          "base_uri": "https://localhost:8080/"
        },
        "id": "lVZtN0ZgOAX2",
        "outputId": "23345153-2745-4df1-b0f7-5f67a59bbfba"
      },
      "execution_count": 77,
      "outputs": [
        {
          "output_type": "stream",
          "name": "stdout",
          "text": [
            "Logical operators demo:\n",
            "x = 5, y = 10\n",
            "x < y and y > x: True\n",
            "x > y and y > x: False\n",
            "x < y or y < x: True\n",
            "x > y or y < x: False\n",
            "not (x < y): False\n",
            "not (x > y): True\n"
          ]
        }
      ]
    },
    {
      "cell_type": "markdown",
      "source": [
        "9. **Write a Python program to convert user input from string to integer, float, and boolean types.**"
      ],
      "metadata": {
        "id": "i9kSBFCiP1oe"
      }
    },
    {
      "cell_type": "code",
      "source": [
        "def convert_types(user_input):\n",
        "    print(f\"User input: '{user_input}'\")\n",
        "\n",
        "    # Try converting to int\n",
        "    try:\n",
        "        int_val = int(user_input)\n",
        "        print(f\"Integer: {int_val}\")\n",
        "    except ValueError:\n",
        "        print(\"Cannot convert to integer.\")\n",
        "\n",
        "    # Try converting to float\n",
        "    try:\n",
        "        float_val = float(user_input)\n",
        "        print(f\"Float: {float_val}\")\n",
        "    except ValueError:\n",
        "        print(\"Cannot convert to float.\")\n",
        "\n",
        "    # Convert to boolean (based on string comparison)\n",
        "    if user_input.lower() == \"true\":\n",
        "        bool_val = True\n",
        "    elif user_input.lower() == \"false\":\n",
        "        bool_val = False\n",
        "    else:\n",
        "        bool_val = bool(user_input)  # Any non-empty string is True\n",
        "    print(f\"Boolean: {bool_val}\")\n",
        "\n",
        "def main():\n",
        "    user_input = input(\"Enter something: \")\n",
        "    convert_types(user_input)\n",
        "\n",
        "if __name__ == \"__main__\":\n",
        "    main()\n"
      ],
      "metadata": {
        "colab": {
          "base_uri": "https://localhost:8080/"
        },
        "id": "U2lW_X3PP-ke",
        "outputId": "74b51020-f9ac-4597-d1d1-84c974b5e9d2"
      },
      "execution_count": 79,
      "outputs": [
        {
          "output_type": "stream",
          "name": "stdout",
          "text": [
            "Enter something: 8\n",
            "User input: '8'\n",
            "Integer: 8\n",
            "Float: 8.0\n",
            "Boolean: True\n"
          ]
        }
      ]
    },
    {
      "cell_type": "markdown",
      "source": [
        "10. **Write code to demonstrate type casting with list elements.**"
      ],
      "metadata": {
        "id": "OyouMILYQSya"
      }
    },
    {
      "cell_type": "code",
      "source": [
        "def demo_type_casting():\n",
        "    # Original list with string elements\n",
        "    str_list = [\"10\", \"22.5\", \"33\", \"14.8\"]\n",
        "    print(f\"Original list (strings): {str_list}\")\n",
        "\n",
        "    # Convert to int where possible\n",
        "    int_list = []\n",
        "    for item in str_list:\n",
        "        try:\n",
        "            int_list.append(int(float(item)))  # float() for cases like \"2.5\"\n",
        "        except ValueError:\n",
        "            int_list.append(None)  # Indicate failed conversion\n",
        "    print(f\"Converted to int: {int_list}\")\n",
        "\n",
        "    # Convert to float\n",
        "    float_list = [float(item) for item in str_list]\n",
        "    print(f\"Converted to float: {float_list}\")\n",
        "\n",
        "if __name__ == \"__main__\":\n",
        "    demo_type_casting()"
      ],
      "metadata": {
        "colab": {
          "base_uri": "https://localhost:8080/"
        },
        "id": "hIq3ZNqeQZDF",
        "outputId": "17c600cd-f3ad-4193-ebfc-d5ce59de53e9"
      },
      "execution_count": 80,
      "outputs": [
        {
          "output_type": "stream",
          "name": "stdout",
          "text": [
            "Original list (strings): ['10', '22.5', '33', '14.8']\n",
            "Converted to int: [10, 22, 33, 14]\n",
            "Converted to float: [10.0, 22.5, 33.0, 14.8]\n"
          ]
        }
      ]
    },
    {
      "cell_type": "markdown",
      "source": [
        "11.  **Write a program that checks if a number is positive, negative, or zero.**"
      ],
      "metadata": {
        "id": "mxl53HFPQw9l"
      }
    },
    {
      "cell_type": "code",
      "source": [
        "def check_number():\n",
        "    try:\n",
        "        num = float(input(\"Enter a number: \"))\n",
        "        if num > 0:\n",
        "            print(f\"{num} is positive.\")\n",
        "        elif num < 0:\n",
        "            print(f\"{num} is negative.\")\n",
        "        else:\n",
        "            print(f\"{num} is zero.\")\n",
        "    except ValueError:\n",
        "        print(\"Invalid input. Please enter a number.\")\n",
        "\n",
        "if __name__ == \"__main__\":\n",
        "    check_number()"
      ],
      "metadata": {
        "colab": {
          "base_uri": "https://localhost:8080/"
        },
        "id": "NhtMv9QYQ3AJ",
        "outputId": "b03e56d6-e12c-4e66-dfa5-dbf89cb25b9d"
      },
      "execution_count": 85,
      "outputs": [
        {
          "output_type": "stream",
          "name": "stdout",
          "text": [
            "Enter a number: 15\n",
            "15.0 is positive.\n"
          ]
        }
      ]
    },
    {
      "cell_type": "markdown",
      "source": [
        "12. **Write a for loop to print numbers from 1 to 10.**\n"
      ],
      "metadata": {
        "id": "b467Na_gRA4G"
      }
    },
    {
      "cell_type": "code",
      "source": [
        "for num in range(1, 10):\n",
        "    print(num)"
      ],
      "metadata": {
        "colab": {
          "base_uri": "https://localhost:8080/"
        },
        "id": "00NMo6AVRHgD",
        "outputId": "33f6f4be-83a8-4d30-bb12-e3b5e8c4ebbb"
      },
      "execution_count": 87,
      "outputs": [
        {
          "output_type": "stream",
          "name": "stdout",
          "text": [
            "1\n",
            "2\n",
            "3\n",
            "4\n",
            "5\n",
            "6\n",
            "7\n",
            "8\n",
            "9\n"
          ]
        }
      ]
    },
    {
      "cell_type": "markdown",
      "source": [
        "13.  **Write a Python program to find the sum of all even numbers between 1 and 50.**"
      ],
      "metadata": {
        "id": "AvCz1gOKRRv6"
      }
    },
    {
      "cell_type": "code",
      "source": [
        "def sum_even_numbers():\n",
        "    total = sum(num for num in range(1, 50)\n",
        "    if num % 2 == 0)\n",
        "    print(f\"Sum of even numbers between 1 and 50: {total}\")\n",
        "\n",
        "if __name__ == \"__main__\":\n",
        "    sum_even_numbers()"
      ],
      "metadata": {
        "colab": {
          "base_uri": "https://localhost:8080/"
        },
        "id": "x94IjldWRYCM",
        "outputId": "719624e1-6114-419e-8ff0-1c7aeb928ad6"
      },
      "execution_count": 90,
      "outputs": [
        {
          "output_type": "stream",
          "name": "stdout",
          "text": [
            "Sum of even numbers between 1 and 50: 600\n"
          ]
        }
      ]
    },
    {
      "cell_type": "markdown",
      "source": [
        " 14. **Write a program to reverse a string using a while loop.**"
      ],
      "metadata": {
        "id": "WxT1qhhlRpNA"
      }
    },
    {
      "cell_type": "code",
      "source": [
        "def reverse_string(s):\n",
        "    reversed_str = \"\"\n",
        "    index = len(s) - 1\n",
        "    while index >= 0:\n",
        "        reversed_str += s[index]\n",
        "        index -= 1\n",
        "    return reversed_str\n",
        "\n",
        "def main():\n",
        "    user_input = input(\"Enter a name: \")\n",
        "    print(f\"Reversed name: {reverse_string(user_input)}\")\n",
        "\n",
        "if __name__ == \"__main__\":\n",
        "    main()"
      ],
      "metadata": {
        "colab": {
          "base_uri": "https://localhost:8080/"
        },
        "id": "y8Qf72UrR_Ca",
        "outputId": "c70fcd6d-2ca1-4815-8e43-c76110893a37"
      },
      "execution_count": 93,
      "outputs": [
        {
          "output_type": "stream",
          "name": "stdout",
          "text": [
            "Enter a name: pwskills\n",
            "Reversed name: sllikswp\n"
          ]
        }
      ]
    },
    {
      "cell_type": "markdown",
      "source": [
        "15. **Write a Python program to calculate the factorial of a number provided by the user using a while loop.**"
      ],
      "metadata": {
        "id": "g-55yUc9SWk5"
      }
    },
    {
      "cell_type": "code",
      "source": [
        "def calculate_factorial(n):\n",
        "    if n < 0:\n",
        "        return \"Factorial not defined for negative numbers.\"\n",
        "    elif n == 0 or n == 1:\n",
        "        return 1\n",
        "\n",
        "    factorial = 1\n",
        "    while n > 1:\n",
        "        factorial *= n\n",
        "        n -= 1\n",
        "    return factorial\n",
        "\n",
        "def main():\n",
        "    try:\n",
        "        num = int(input(\"Enter a non-negative integer: \"))\n",
        "        print(f\"Factorial of {num}: {calculate_factorial(num)}\")\n",
        "    except ValueError:\n",
        "        print(\"Invalid input. Please enter an integer.\")\n",
        "\n",
        "if __name__ == \"__main__\":\n",
        "    main()\n",
        ""
      ],
      "metadata": {
        "colab": {
          "base_uri": "https://localhost:8080/"
        },
        "id": "hCo4Dq4USbnA",
        "outputId": "ee4dd5ad-d382-4d0c-bae8-285d85707d09"
      },
      "execution_count": 96,
      "outputs": [
        {
          "output_type": "stream",
          "name": "stdout",
          "text": [
            "Enter a non-negative integer: 5\n",
            "Factorial of 5: 120\n"
          ]
        }
      ]
    }
  ]
}